{
  "nbformat": 4,
  "nbformat_minor": 0,
  "metadata": {
    "colab": {
      "provenance": []
    },
    "kernelspec": {
      "name": "python3",
      "display_name": "Python 3"
    },
    "language_info": {
      "name": "python"
    }
  },
  "cells": [
    {
      "cell_type": "code",
      "execution_count": 2,
      "metadata": {
        "colab": {
          "base_uri": "https://localhost:8080/"
        },
        "id": "vg7Pk5K3NxTC",
        "outputId": "71891dc3-10b7-4b08-c0f7-3df4ffa11c2e"
      },
      "outputs": [
        {
          "output_type": "stream",
          "name": "stdout",
          "text": [
            "Accuracy: 0.9838565022421525\n",
            "\n",
            "Confusion Matrix:\n",
            "[[963   2]\n",
            " [ 16 134]]\n",
            "\n",
            "Classification Report:\n",
            "              precision    recall  f1-score   support\n",
            "\n",
            "           0       0.98      1.00      0.99       965\n",
            "           1       0.99      0.89      0.94       150\n",
            "\n",
            "    accuracy                           0.98      1115\n",
            "   macro avg       0.98      0.95      0.96      1115\n",
            "weighted avg       0.98      0.98      0.98      1115\n",
            "\n",
            "Message: Congratulations! You've won a free iPhone. Click here to claim your prize!\n",
            "Classification: Spam\n",
            "\n",
            "Message: Hi Mom, can you pick me up after school today?\n",
            "Classification: Not Spam\n",
            "\n",
            "Message: URGENT: Your bank account has been suspended. Log in now to reactivate.\n",
            "Classification: Spam\n",
            "\n",
            "Message: Meeting rescheduled to 3 PM. See you then.\n",
            "Classification: Not Spam\n",
            "\n"
          ]
        }
      ],
      "source": [
        "import pandas as pd\n",
        "import numpy as np\n",
        "from sklearn.model_selection import train_test_split\n",
        "from sklearn.feature_extraction.text import CountVectorizer\n",
        "from sklearn.naive_bayes import MultinomialNB\n",
        "from sklearn.metrics import classification_report, confusion_matrix, accuracy_score\n",
        "\n",
        "df = pd.read_csv('spam.csv', encoding='latin-1')\n",
        "df = df.drop(['Unnamed: 2', 'Unnamed: 3', 'Unnamed: 4'], axis=1)\n",
        "df = df.rename(columns={'v1': 'label', 'v2': 'text'})\n",
        "df['label'] = df['label'].map({'ham': 0, 'spam': 1})\n",
        "\n",
        "# Step 2: Split the data into training and testing sets\n",
        "X_train, X_test, y_train, y_test = train_test_split(df['text'], df['label'], test_size=0.2, random_state=42)\n",
        "\n",
        "# Step 3: Create a Bag of Words model\n",
        "vectorizer = CountVectorizer()\n",
        "X_train_counts = vectorizer.fit_transform(X_train)\n",
        "X_test_counts = vectorizer.transform(X_test)\n",
        "\n",
        "# Step 4: Train the Naive Bayes classifier\n",
        "clf = MultinomialNB()\n",
        "clf.fit(X_train_counts, y_train)\n",
        "\n",
        "# Step 5: Make predictions on the test set\n",
        "y_pred = clf.predict(X_test_counts)\n",
        "\n",
        "# Step 6: Evaluate the model\n",
        "print(\"Accuracy:\", accuracy_score(y_test, y_pred))\n",
        "print(\"\\nConfusion Matrix:\")\n",
        "print(confusion_matrix(y_test, y_pred))\n",
        "print(\"\\nClassification Report:\")\n",
        "print(classification_report(y_test, y_pred))\n",
        "\n",
        "# Step 7: Function to classify new SMS messages\n",
        "def classify_message(message):\n",
        "    message_counts = vectorizer.transform([message])\n",
        "    prediction = clf.predict(message_counts)\n",
        "    return \"Spam\" if prediction[0] == 1 else \"Not Spam\"\n",
        "\n",
        "# Test the classifier with some example messages\n",
        "examples = [\n",
        "    \"Congratulations! You've won a free iPhone. Click here to claim your prize!\",\n",
        "    \"Hi Mom, can you pick me up after school today?\",\n",
        "    \"URGENT: Your bank account has been suspended. Log in now to reactivate.\",\n",
        "    \"Meeting rescheduled to 3 PM. See you then.\"\n",
        "]\n",
        "\n",
        "for example in examples:\n",
        "    print(f\"Message: {example}\")\n",
        "    print(f\"Classification: {classify_message(example)}\\n\")"
      ]
    }
  ]
}